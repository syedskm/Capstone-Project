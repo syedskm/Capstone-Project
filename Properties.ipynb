{
 "cells": [
  {
   "cell_type": "code",
   "execution_count": 1,
   "id": "1dada14d",
   "metadata": {},
   "outputs": [],
   "source": [
    "import pandas as pd\n",
    "import matplotlib.pyplot as plt\n",
    "import seaborn as sns\n",
    "import numpy as np\n",
    "import warnings\n",
    "warnings.filterwarnings('ignore')"
   ]
  },
  {
   "cell_type": "code",
   "execution_count": 2,
   "id": "6588219f",
   "metadata": {},
   "outputs": [],
   "source": [
    "df1 = pd.read_csv('table1.csv')\n",
    "df2 = pd.read_csv('table2.csv')\n",
    "df3 = pd.read_csv('table3.csv')\n",
    "\n",
    "df = pd.concat([df1, df2, df3], ignore_index=True)"
   ]
  },
  {
   "cell_type": "code",
   "execution_count": 3,
   "id": "668e44f4",
   "metadata": {},
   "outputs": [
    {
     "data": {
      "text/html": [
       "<div>\n",
       "<style scoped>\n",
       "    .dataframe tbody tr th:only-of-type {\n",
       "        vertical-align: middle;\n",
       "    }\n",
       "\n",
       "    .dataframe tbody tr th {\n",
       "        vertical-align: top;\n",
       "    }\n",
       "\n",
       "    .dataframe thead th {\n",
       "        text-align: right;\n",
       "    }\n",
       "</style>\n",
       "<table border=\"1\" class=\"dataframe\">\n",
       "  <thead>\n",
       "    <tr style=\"text-align: right;\">\n",
       "      <th></th>\n",
       "      <th>BHK</th>\n",
       "      <th>Property Type</th>\n",
       "      <th>Address</th>\n",
       "      <th>Furnishing</th>\n",
       "      <th>Type of Ownership</th>\n",
       "      <th>Age of Construction</th>\n",
       "      <th>Landmark</th>\n",
       "      <th>Beds</th>\n",
       "      <th>Baths</th>\n",
       "      <th>Balconies</th>\n",
       "      <th>...</th>\n",
       "      <th>House_Facing</th>\n",
       "      <th>Status</th>\n",
       "      <th>Price/Carpet Area</th>\n",
       "      <th>Amount</th>\n",
       "      <th>Booking Price</th>\n",
       "      <th>Area</th>\n",
       "      <th>state</th>\n",
       "      <th>city</th>\n",
       "      <th>country</th>\n",
       "      <th>state_code</th>\n",
       "    </tr>\n",
       "  </thead>\n",
       "  <tbody>\n",
       "    <tr>\n",
       "      <th>0</th>\n",
       "      <td>2</td>\n",
       "      <td>Flat</td>\n",
       "      <td>Shakthi nagar Thalambur, Thazhambur, Chennai -...</td>\n",
       "      <td>Semi-Furnished</td>\n",
       "      <td>Freehold</td>\n",
       "      <td>New Construction</td>\n",
       "      <td>NaN</td>\n",
       "      <td>3.0</td>\n",
       "      <td>3.0</td>\n",
       "      <td>1.0</td>\n",
       "      <td>...</td>\n",
       "      <td>North</td>\n",
       "      <td>Poss. by Dec '25</td>\n",
       "      <td>4200</td>\n",
       "      <td>1.05 Cr</td>\n",
       "      <td>NaN</td>\n",
       "      <td>750.0</td>\n",
       "      <td>Tamil Nadu</td>\n",
       "      <td>Chennai</td>\n",
       "      <td>India</td>\n",
       "      <td>TN</td>\n",
       "    </tr>\n",
       "    <tr>\n",
       "      <th>1</th>\n",
       "      <td>3</td>\n",
       "      <td>Flat</td>\n",
       "      <td>no 4, krishna swami street, north uusman road,...</td>\n",
       "      <td>Semi-Furnished</td>\n",
       "      <td>Freehold</td>\n",
       "      <td>NaN</td>\n",
       "      <td>joy alukkas</td>\n",
       "      <td>3.0</td>\n",
       "      <td>2.0</td>\n",
       "      <td>NaN</td>\n",
       "      <td>...</td>\n",
       "      <td>North</td>\n",
       "      <td>Ready to Move</td>\n",
       "      <td>8848</td>\n",
       "      <td>1.15 Cr</td>\n",
       "      <td>5.0 Lac</td>\n",
       "      <td>712.0</td>\n",
       "      <td>Tamil Nadu</td>\n",
       "      <td>Chennai</td>\n",
       "      <td>India</td>\n",
       "      <td>TN</td>\n",
       "    </tr>\n",
       "    <tr>\n",
       "      <th>2</th>\n",
       "      <td>2</td>\n",
       "      <td>Flat</td>\n",
       "      <td>Sholinganallur, Chennai - South, Tamil Nadu</td>\n",
       "      <td>Semi-Furnished</td>\n",
       "      <td>Freehold</td>\n",
       "      <td>NaN</td>\n",
       "      <td>NaN</td>\n",
       "      <td>3.0</td>\n",
       "      <td>3.0</td>\n",
       "      <td>NaN</td>\n",
       "      <td>...</td>\n",
       "      <td>North</td>\n",
       "      <td>Ready to Move</td>\n",
       "      <td>unknown</td>\n",
       "      <td>90 Lac</td>\n",
       "      <td>NaN</td>\n",
       "      <td>1230.0</td>\n",
       "      <td>Tamil Nadu</td>\n",
       "      <td>Chennai</td>\n",
       "      <td>India</td>\n",
       "      <td>TN</td>\n",
       "    </tr>\n",
       "    <tr>\n",
       "      <th>3</th>\n",
       "      <td>0</td>\n",
       "      <td>Others</td>\n",
       "      <td>Adyar Sastri nagar, Adyar, Chennai - Central, ...</td>\n",
       "      <td>Unfurnished</td>\n",
       "      <td>Freehold</td>\n",
       "      <td>NaN</td>\n",
       "      <td>very close to departmental store hospital</td>\n",
       "      <td>NaN</td>\n",
       "      <td>NaN</td>\n",
       "      <td>NaN</td>\n",
       "      <td>...</td>\n",
       "      <td>North</td>\n",
       "      <td>Ready to Move</td>\n",
       "      <td>7637</td>\n",
       "      <td>2.52 Cr</td>\n",
       "      <td>1.0 Lac</td>\n",
       "      <td>1095.0</td>\n",
       "      <td>Tamil Nadu</td>\n",
       "      <td>Chennai</td>\n",
       "      <td>India</td>\n",
       "      <td>TN</td>\n",
       "    </tr>\n",
       "    <tr>\n",
       "      <th>4</th>\n",
       "      <td>2</td>\n",
       "      <td>Flat</td>\n",
       "      <td>Near Medavakkam, Vengaivasal, Chennai South, V...</td>\n",
       "      <td>Unfurnished</td>\n",
       "      <td>NaN</td>\n",
       "      <td>NaN</td>\n",
       "      <td>150 meters from Vengaivasal main road, Velache...</td>\n",
       "      <td>3.0</td>\n",
       "      <td>3.0</td>\n",
       "      <td>NaN</td>\n",
       "      <td>...</td>\n",
       "      <td>East</td>\n",
       "      <td>Ready to Move</td>\n",
       "      <td>12750</td>\n",
       "      <td>1.1 Cr</td>\n",
       "      <td>5.0 Lac</td>\n",
       "      <td>1200.0</td>\n",
       "      <td>Tamil Nadu</td>\n",
       "      <td>Chennai</td>\n",
       "      <td>India</td>\n",
       "      <td>TN</td>\n",
       "    </tr>\n",
       "    <tr>\n",
       "      <th>...</th>\n",
       "      <td>...</td>\n",
       "      <td>...</td>\n",
       "      <td>...</td>\n",
       "      <td>...</td>\n",
       "      <td>...</td>\n",
       "      <td>...</td>\n",
       "      <td>...</td>\n",
       "      <td>...</td>\n",
       "      <td>...</td>\n",
       "      <td>...</td>\n",
       "      <td>...</td>\n",
       "      <td>...</td>\n",
       "      <td>...</td>\n",
       "      <td>...</td>\n",
       "      <td>...</td>\n",
       "      <td>...</td>\n",
       "      <td>...</td>\n",
       "      <td>...</td>\n",
       "      <td>...</td>\n",
       "      <td>...</td>\n",
       "      <td>...</td>\n",
       "    </tr>\n",
       "    <tr>\n",
       "      <th>3025</th>\n",
       "      <td>2</td>\n",
       "      <td>House</td>\n",
       "      <td>plot No 34, room no 19, pushpam CHS Gorai-1 Bo...</td>\n",
       "      <td>Unfurnished</td>\n",
       "      <td>Co-operative Society</td>\n",
       "      <td>5 to 10 years</td>\n",
       "      <td>NaN</td>\n",
       "      <td>2.0</td>\n",
       "      <td>2.0</td>\n",
       "      <td>1.0</td>\n",
       "      <td>...</td>\n",
       "      <td>NaN</td>\n",
       "      <td>NaN</td>\n",
       "      <td>unknown</td>\n",
       "      <td>70 Lac</td>\n",
       "      <td>NaN</td>\n",
       "      <td>500.0</td>\n",
       "      <td>Maharashtra</td>\n",
       "      <td>Mumbai</td>\n",
       "      <td>India</td>\n",
       "      <td>MH</td>\n",
       "    </tr>\n",
       "    <tr>\n",
       "      <th>3026</th>\n",
       "      <td>1</td>\n",
       "      <td>House</td>\n",
       "      <td>Byculla East, Mumbai, Byculla East, Mumbai - S...</td>\n",
       "      <td>Unfurnished</td>\n",
       "      <td>NaN</td>\n",
       "      <td>Above 20 years</td>\n",
       "      <td>NaN</td>\n",
       "      <td>NaN</td>\n",
       "      <td>2.0</td>\n",
       "      <td>NaN</td>\n",
       "      <td>...</td>\n",
       "      <td>NaN</td>\n",
       "      <td>NaN</td>\n",
       "      <td>unknown</td>\n",
       "      <td>90 Lac</td>\n",
       "      <td>NaN</td>\n",
       "      <td>300.0</td>\n",
       "      <td>Maharashtra</td>\n",
       "      <td>Mumbai</td>\n",
       "      <td>India</td>\n",
       "      <td>MH</td>\n",
       "    </tr>\n",
       "    <tr>\n",
       "      <th>3027</th>\n",
       "      <td>3</td>\n",
       "      <td>Villa</td>\n",
       "      <td>Mumbai, Maharashtra</td>\n",
       "      <td>Semi-Furnished</td>\n",
       "      <td>NaN</td>\n",
       "      <td>NaN</td>\n",
       "      <td>NaN</td>\n",
       "      <td>3.0</td>\n",
       "      <td>4.0</td>\n",
       "      <td>NaN</td>\n",
       "      <td>...</td>\n",
       "      <td>NaN</td>\n",
       "      <td>NaN</td>\n",
       "      <td>unknown</td>\n",
       "      <td>89 Lac</td>\n",
       "      <td>NaN</td>\n",
       "      <td>1050.0</td>\n",
       "      <td>Maharashtra</td>\n",
       "      <td>Mumbai</td>\n",
       "      <td>India</td>\n",
       "      <td>MH</td>\n",
       "    </tr>\n",
       "    <tr>\n",
       "      <th>3028</th>\n",
       "      <td>6</td>\n",
       "      <td>Villa</td>\n",
       "      <td>Malabar Hill, Mumbai - South Mumbai, Maharashtra</td>\n",
       "      <td>Semi-Furnished</td>\n",
       "      <td>Freehold</td>\n",
       "      <td>New Construction</td>\n",
       "      <td>NaN</td>\n",
       "      <td>NaN</td>\n",
       "      <td>NaN</td>\n",
       "      <td>NaN</td>\n",
       "      <td>...</td>\n",
       "      <td>North</td>\n",
       "      <td>NaN</td>\n",
       "      <td>unknown</td>\n",
       "      <td>425 Cr</td>\n",
       "      <td>NaN</td>\n",
       "      <td>13500.0</td>\n",
       "      <td>Maharashtra</td>\n",
       "      <td>Mumbai</td>\n",
       "      <td>India</td>\n",
       "      <td>MH</td>\n",
       "    </tr>\n",
       "    <tr>\n",
       "      <th>3029</th>\n",
       "      <td>5</td>\n",
       "      <td>Villa</td>\n",
       "      <td>Dadar East, Mumbai - South Mumbai, Maharashtra</td>\n",
       "      <td>Unfurnished</td>\n",
       "      <td>Co-operative Society</td>\n",
       "      <td>Above 20 years</td>\n",
       "      <td>NaN</td>\n",
       "      <td>NaN</td>\n",
       "      <td>NaN</td>\n",
       "      <td>NaN</td>\n",
       "      <td>...</td>\n",
       "      <td>East</td>\n",
       "      <td>NaN</td>\n",
       "      <td>unknown</td>\n",
       "      <td>15 Cr</td>\n",
       "      <td>50.0 Lac</td>\n",
       "      <td>0.0</td>\n",
       "      <td>Maharashtra</td>\n",
       "      <td>Mumbai</td>\n",
       "      <td>India</td>\n",
       "      <td>MH</td>\n",
       "    </tr>\n",
       "  </tbody>\n",
       "</table>\n",
       "<p>3030 rows × 23 columns</p>\n",
       "</div>"
      ],
      "text/plain": [
       "     BHK Property Type                                            Address  \\\n",
       "0      2          Flat  Shakthi nagar Thalambur, Thazhambur, Chennai -...   \n",
       "1      3          Flat  no 4, krishna swami street, north uusman road,...   \n",
       "2      2          Flat        Sholinganallur, Chennai - South, Tamil Nadu   \n",
       "3      0        Others  Adyar Sastri nagar, Adyar, Chennai - Central, ...   \n",
       "4      2          Flat  Near Medavakkam, Vengaivasal, Chennai South, V...   \n",
       "...   ..           ...                                                ...   \n",
       "3025   2         House  plot No 34, room no 19, pushpam CHS Gorai-1 Bo...   \n",
       "3026   1         House  Byculla East, Mumbai, Byculla East, Mumbai - S...   \n",
       "3027   3         Villa                                Mumbai, Maharashtra   \n",
       "3028   6         Villa   Malabar Hill, Mumbai - South Mumbai, Maharashtra   \n",
       "3029   5         Villa     Dadar East, Mumbai - South Mumbai, Maharashtra   \n",
       "\n",
       "          Furnishing     Type of Ownership Age of Construction  \\\n",
       "0     Semi-Furnished              Freehold    New Construction   \n",
       "1     Semi-Furnished              Freehold                 NaN   \n",
       "2     Semi-Furnished              Freehold                 NaN   \n",
       "3        Unfurnished              Freehold                 NaN   \n",
       "4        Unfurnished                   NaN                 NaN   \n",
       "...              ...                   ...                 ...   \n",
       "3025     Unfurnished  Co-operative Society       5 to 10 years   \n",
       "3026     Unfurnished                   NaN      Above 20 years   \n",
       "3027  Semi-Furnished                   NaN                 NaN   \n",
       "3028  Semi-Furnished              Freehold    New Construction   \n",
       "3029     Unfurnished  Co-operative Society      Above 20 years   \n",
       "\n",
       "                                               Landmark  Beds  Baths  \\\n",
       "0                                                   NaN   3.0    3.0   \n",
       "1                                           joy alukkas   3.0    2.0   \n",
       "2                                                   NaN   3.0    3.0   \n",
       "3             very close to departmental store hospital   NaN    NaN   \n",
       "4     150 meters from Vengaivasal main road, Velache...   3.0    3.0   \n",
       "...                                                 ...   ...    ...   \n",
       "3025                                                NaN   2.0    2.0   \n",
       "3026                                                NaN   NaN    2.0   \n",
       "3027                                                NaN   3.0    4.0   \n",
       "3028                                                NaN   NaN    NaN   \n",
       "3029                                                NaN   NaN    NaN   \n",
       "\n",
       "      Balconies  ... House_Facing            Status Price/Carpet Area  \\\n",
       "0           1.0  ...        North  Poss. by Dec '25              4200   \n",
       "1           NaN  ...        North     Ready to Move              8848   \n",
       "2           NaN  ...        North     Ready to Move           unknown   \n",
       "3           NaN  ...        North     Ready to Move              7637   \n",
       "4           NaN  ...         East     Ready to Move             12750   \n",
       "...         ...  ...          ...               ...               ...   \n",
       "3025        1.0  ...          NaN               NaN           unknown   \n",
       "3026        NaN  ...          NaN               NaN           unknown   \n",
       "3027        NaN  ...          NaN               NaN           unknown   \n",
       "3028        NaN  ...        North               NaN           unknown   \n",
       "3029        NaN  ...         East               NaN           unknown   \n",
       "\n",
       "       Amount Booking Price     Area        state     city  country state_code  \n",
       "0     1.05 Cr           NaN    750.0   Tamil Nadu  Chennai    India         TN  \n",
       "1     1.15 Cr       5.0 Lac    712.0   Tamil Nadu  Chennai    India         TN  \n",
       "2      90 Lac           NaN   1230.0   Tamil Nadu  Chennai    India         TN  \n",
       "3     2.52 Cr       1.0 Lac   1095.0   Tamil Nadu  Chennai    India         TN  \n",
       "4      1.1 Cr       5.0 Lac   1200.0   Tamil Nadu  Chennai    India         TN  \n",
       "...       ...           ...      ...          ...      ...      ...        ...  \n",
       "3025   70 Lac           NaN    500.0  Maharashtra   Mumbai    India         MH  \n",
       "3026   90 Lac           NaN    300.0  Maharashtra   Mumbai    India         MH  \n",
       "3027   89 Lac           NaN   1050.0  Maharashtra   Mumbai    India         MH  \n",
       "3028   425 Cr           NaN  13500.0  Maharashtra   Mumbai    India         MH  \n",
       "3029    15 Cr      50.0 Lac      0.0  Maharashtra   Mumbai    India         MH  \n",
       "\n",
       "[3030 rows x 23 columns]"
      ]
     },
     "execution_count": 3,
     "metadata": {},
     "output_type": "execute_result"
    }
   ],
   "source": [
    "df"
   ]
  },
  {
   "cell_type": "code",
   "execution_count": 4,
   "id": "326b8d11",
   "metadata": {},
   "outputs": [
    {
     "name": "stdout",
     "output_type": "stream",
     "text": [
      "<class 'pandas.core.frame.DataFrame'>\n",
      "RangeIndex: 3030 entries, 0 to 3029\n",
      "Data columns (total 23 columns):\n",
      " #   Column               Non-Null Count  Dtype  \n",
      "---  ------               --------------  -----  \n",
      " 0   BHK                  2970 non-null   object \n",
      " 1   Property Type        2970 non-null   object \n",
      " 2   Address              2992 non-null   object \n",
      " 3   Furnishing           3030 non-null   object \n",
      " 4   Type of Ownership    1285 non-null   object \n",
      " 5   Age of Construction  1073 non-null   object \n",
      " 6   Landmark             1215 non-null   object \n",
      " 7   Beds                 2501 non-null   float64\n",
      " 8   Baths                2358 non-null   float64\n",
      " 9   Balconies            666 non-null    float64\n",
      " 10  Parking              723 non-null    object \n",
      " 11  Floors               3030 non-null   object \n",
      " 12  Transaction_Type     3000 non-null   object \n",
      " 13  House_Facing         1650 non-null   object \n",
      " 14  Status               2804 non-null   object \n",
      " 15  Price/Carpet Area    3030 non-null   object \n",
      " 16  Amount               2992 non-null   object \n",
      " 17  Booking Price        1118 non-null   object \n",
      " 18  Area                 2974 non-null   float64\n",
      " 19  state                3030 non-null   object \n",
      " 20  city                 3030 non-null   object \n",
      " 21  country              3030 non-null   object \n",
      " 22  state_code           3030 non-null   object \n",
      "dtypes: float64(4), object(19)\n",
      "memory usage: 544.6+ KB\n"
     ]
    }
   ],
   "source": [
    "df.info()"
   ]
  },
  {
   "cell_type": "code",
   "execution_count": 5,
   "id": "19c08de4",
   "metadata": {},
   "outputs": [
    {
     "data": {
      "text/plain": [
       "<AxesSubplot:>"
      ]
     },
     "execution_count": 5,
     "metadata": {},
     "output_type": "execute_result"
    },
    {
     "data": {
      "image/png": "[encoded data removed]",
      "text/plain": [
       "<Figure size 640x480 with 2 Axes>"
      ]
     },
     "metadata": {},
     "output_type": "display_data"
    }
   ],
   "source": [
    "sns.heatmap(df.isna())"
   ]
  },
  {
   "cell_type": "code",
   "execution_count": 6,
   "id": "d041af19",
   "metadata": {},
   "outputs": [],
   "source": [
    "df['Beds'] = df.apply(lambda row: row['BHK'] if not pd.isna(row['BHK']) else row['Beds'], axis=1)"
   ]
  },
  {
   "cell_type": "code",
   "execution_count": 7,
   "id": "efd8ee56",
   "metadata": {},
   "outputs": [],
   "source": [
    "pd.set_option('display.max_columns', None)"
   ]
  },
  {
   "cell_type": "code",
   "execution_count": 8,
   "id": "fbb0cc39",
   "metadata": {},
   "outputs": [
    {
     "data": {
      "text/html": [
       "<div>\n",
       "<style scoped>\n",
       "    .dataframe tbody tr th:only-of-type {\n",
       "        vertical-align: middle;\n",
       "    }\n",
       "\n",
       "    .dataframe tbody tr th {\n",
       "        vertical-align: top;\n",
       "    }\n",
       "\n",
       "    .dataframe thead th {\n",
       "        text-align: right;\n",
       "    }\n",
       "</style>\n",
       "<table border=\"1\" class=\"dataframe\">\n",
       "  <thead>\n",
       "    <tr style=\"text-align: right;\">\n",
       "      <th></th>\n",
       "      <th>BHK</th>\n",
       "      <th>Property Type</th>\n",
       "      <th>Address</th>\n",
       "      <th>Furnishing</th>\n",
       "      <th>Type of Ownership</th>\n",
       "      <th>Age of Construction</th>\n",
       "      <th>Landmark</th>\n",
       "      <th>Beds</th>\n",
       "      <th>Baths</th>\n",
       "      <th>Balconies</th>\n",
       "      <th>Parking</th>\n",
       "      <th>Floors</th>\n",
       "      <th>Transaction_Type</th>\n",
       "      <th>House_Facing</th>\n",
       "      <th>Status</th>\n",
       "      <th>Price/Carpet Area</th>\n",
       "      <th>Amount</th>\n",
       "      <th>Booking Price</th>\n",
       "      <th>Area</th>\n",
       "      <th>state</th>\n",
       "      <th>city</th>\n",
       "      <th>country</th>\n",
       "      <th>state_code</th>\n",
       "    </tr>\n",
       "  </thead>\n",
       "  <tbody>\n",
       "    <tr>\n",
       "      <th>0</th>\n",
       "      <td>2</td>\n",
       "      <td>Flat</td>\n",
       "      <td>Shakthi nagar Thalambur, Thazhambur, Chennai -...</td>\n",
       "      <td>Semi-Furnished</td>\n",
       "      <td>Freehold</td>\n",
       "      <td>New Construction</td>\n",
       "      <td>NaN</td>\n",
       "      <td>2</td>\n",
       "      <td>3.0</td>\n",
       "      <td>1.0</td>\n",
       "      <td>NaN</td>\n",
       "      <td>3</td>\n",
       "      <td>New Property</td>\n",
       "      <td>North</td>\n",
       "      <td>Poss. by Dec '25</td>\n",
       "      <td>4200</td>\n",
       "      <td>1.05 Cr</td>\n",
       "      <td>NaN</td>\n",
       "      <td>750.0</td>\n",
       "      <td>Tamil Nadu</td>\n",
       "      <td>Chennai</td>\n",
       "      <td>India</td>\n",
       "      <td>TN</td>\n",
       "    </tr>\n",
       "    <tr>\n",
       "      <th>1</th>\n",
       "      <td>3</td>\n",
       "      <td>Flat</td>\n",
       "      <td>no 4, krishna swami street, north uusman road,...</td>\n",
       "      <td>Semi-Furnished</td>\n",
       "      <td>Freehold</td>\n",
       "      <td>NaN</td>\n",
       "      <td>joy alukkas</td>\n",
       "      <td>3</td>\n",
       "      <td>2.0</td>\n",
       "      <td>NaN</td>\n",
       "      <td>NaN</td>\n",
       "      <td>3</td>\n",
       "      <td>Resale</td>\n",
       "      <td>North</td>\n",
       "      <td>Ready to Move</td>\n",
       "      <td>8848</td>\n",
       "      <td>1.15 Cr</td>\n",
       "      <td>5.0 Lac</td>\n",
       "      <td>712.0</td>\n",
       "      <td>Tamil Nadu</td>\n",
       "      <td>Chennai</td>\n",
       "      <td>India</td>\n",
       "      <td>TN</td>\n",
       "    </tr>\n",
       "    <tr>\n",
       "      <th>2</th>\n",
       "      <td>2</td>\n",
       "      <td>Flat</td>\n",
       "      <td>Sholinganallur, Chennai - South, Tamil Nadu</td>\n",
       "      <td>Semi-Furnished</td>\n",
       "      <td>Freehold</td>\n",
       "      <td>NaN</td>\n",
       "      <td>NaN</td>\n",
       "      <td>2</td>\n",
       "      <td>3.0</td>\n",
       "      <td>NaN</td>\n",
       "      <td>NaN</td>\n",
       "      <td>4</td>\n",
       "      <td>New Property</td>\n",
       "      <td>North</td>\n",
       "      <td>Ready to Move</td>\n",
       "      <td>unknown</td>\n",
       "      <td>90 Lac</td>\n",
       "      <td>NaN</td>\n",
       "      <td>1230.0</td>\n",
       "      <td>Tamil Nadu</td>\n",
       "      <td>Chennai</td>\n",
       "      <td>India</td>\n",
       "      <td>TN</td>\n",
       "    </tr>\n",
       "    <tr>\n",
       "      <th>3</th>\n",
       "      <td>0</td>\n",
       "      <td>Others</td>\n",
       "      <td>Adyar Sastri nagar, Adyar, Chennai - Central, ...</td>\n",
       "      <td>Unfurnished</td>\n",
       "      <td>Freehold</td>\n",
       "      <td>NaN</td>\n",
       "      <td>very close to departmental store hospital</td>\n",
       "      <td>0</td>\n",
       "      <td>NaN</td>\n",
       "      <td>NaN</td>\n",
       "      <td>NaN</td>\n",
       "      <td>1</td>\n",
       "      <td>New Property</td>\n",
       "      <td>North</td>\n",
       "      <td>Ready to Move</td>\n",
       "      <td>7637</td>\n",
       "      <td>2.52 Cr</td>\n",
       "      <td>1.0 Lac</td>\n",
       "      <td>1095.0</td>\n",
       "      <td>Tamil Nadu</td>\n",
       "      <td>Chennai</td>\n",
       "      <td>India</td>\n",
       "      <td>TN</td>\n",
       "    </tr>\n",
       "    <tr>\n",
       "      <th>4</th>\n",
       "      <td>2</td>\n",
       "      <td>Flat</td>\n",
       "      <td>Near Medavakkam, Vengaivasal, Chennai South, V...</td>\n",
       "      <td>Unfurnished</td>\n",
       "      <td>NaN</td>\n",
       "      <td>NaN</td>\n",
       "      <td>150 meters from Vengaivasal main road, Velache...</td>\n",
       "      <td>2</td>\n",
       "      <td>3.0</td>\n",
       "      <td>NaN</td>\n",
       "      <td>1 Covered Parking'</td>\n",
       "      <td>1</td>\n",
       "      <td>New Property</td>\n",
       "      <td>East</td>\n",
       "      <td>Ready to Move</td>\n",
       "      <td>12750</td>\n",
       "      <td>1.1 Cr</td>\n",
       "      <td>5.0 Lac</td>\n",
       "      <td>1200.0</td>\n",
       "      <td>Tamil Nadu</td>\n",
       "      <td>Chennai</td>\n",
       "      <td>India</td>\n",
       "      <td>TN</td>\n",
       "    </tr>\n",
       "  </tbody>\n",
       "</table>\n",
       "</div>"
      ],
      "text/plain": [
       "  BHK Property Type                                            Address  \\\n",
       "0   2          Flat  Shakthi nagar Thalambur, Thazhambur, Chennai -...   \n",
       "1   3          Flat  no 4, krishna swami street, north uusman road,...   \n",
       "2   2          Flat        Sholinganallur, Chennai - South, Tamil Nadu   \n",
       "3   0        Others  Adyar Sastri nagar, Adyar, Chennai - Central, ...   \n",
       "4   2          Flat  Near Medavakkam, Vengaivasal, Chennai South, V...   \n",
       "\n",
       "       Furnishing Type of Ownership Age of Construction  \\\n",
       "0  Semi-Furnished          Freehold    New Construction   \n",
       "1  Semi-Furnished          Freehold                 NaN   \n",
       "2  Semi-Furnished          Freehold                 NaN   \n",
       "3     Unfurnished          Freehold                 NaN   \n",
       "4     Unfurnished               NaN                 NaN   \n",
       "\n",
       "                                            Landmark Beds  Baths  Balconies  \\\n",
       "0                                                NaN    2    3.0        1.0   \n",
       "1                                        joy alukkas    3    2.0        NaN   \n",
       "2                                                NaN    2    3.0        NaN   \n",
       "3          very close to departmental store hospital    0    NaN        NaN   \n",
       "4  150 meters from Vengaivasal main road, Velache...    2    3.0        NaN   \n",
       "\n",
       "              Parking Floors Transaction_Type House_Facing            Status  \\\n",
       "0                 NaN      3     New Property        North  Poss. by Dec '25   \n",
       "1                 NaN      3           Resale        North     Ready to Move   \n",
       "2                 NaN      4     New Property        North     Ready to Move   \n",
       "3                 NaN      1     New Property        North     Ready to Move   \n",
       "4  1 Covered Parking'      1     New Property         East     Ready to Move   \n",
       "\n",
       "  Price/Carpet Area   Amount Booking Price    Area       state     city  \\\n",
       "0              4200  1.05 Cr           NaN   750.0  Tamil Nadu  Chennai   \n",
       "1              8848  1.15 Cr       5.0 Lac   712.0  Tamil Nadu  Chennai   \n",
       "2           unknown   90 Lac           NaN  1230.0  Tamil Nadu  Chennai   \n",
       "3              7637  2.52 Cr       1.0 Lac  1095.0  Tamil Nadu  Chennai   \n",
       "4             12750   1.1 Cr       5.0 Lac  1200.0  Tamil Nadu  Chennai   \n",
       "\n",
       "  country state_code  \n",
       "0   India         TN  \n",
       "1   India         TN  \n",
       "2   India         TN  \n",
       "3   India         TN  \n",
       "4   India         TN  "
      ]
     },
     "execution_count": 8,
     "metadata": {},
     "output_type": "execute_result"
    }
   ],
   "source": [
    "df.head()"
   ]
  },
  {
   "cell_type": "code",
   "execution_count": 9,
   "id": "bd3c81e0",
   "metadata": {},
   "outputs": [],
   "source": [
    "def convert_to_number(value):\n",
    "    if pd.isna(value):\n",
    "        return value \n",
    "    value = value.strip().lower()\n",
    "    if 'lac' in value:\n",
    "        return float(value.replace('lac', '').strip()) * 100000\n",
    "    elif 'cr' in value:\n",
    "        return float(value.replace('cr', '').strip()) * 10000000\n",
    "    return value\n",
    "\n",
    "df['booking amount'] = df['Booking Price'].apply(convert_to_number)\n",
    "df['buy total price'] = df['Amount'].apply(convert_to_number)"
   ]
  },
  {
   "cell_type": "code",
   "execution_count": 10,
   "id": "3d77c911",
   "metadata": {},
   "outputs": [],
   "source": [
    "df.drop(['Booking Price','Amount'],axis=1,inplace=True)"
   ]
  },
  {
   "cell_type": "code",
   "execution_count": 12,
   "id": "30d7c246",
   "metadata": {},
   "outputs": [],
   "source": [
    "df['Baths'] = df['Baths'].apply(lambda x: '6+' if x > 6 else x)"
   ]
  },
  {
   "cell_type": "code",
   "execution_count": 13,
   "id": "4cad06a3",
   "metadata": {},
   "outputs": [],
   "source": [
    "df['Beds'] = df['Beds'].apply(lambda x: '7+' if x == 10.0 else x)"
   ]
  },
  {
   "cell_type": "code",
   "execution_count": 14,
   "id": "dff19518",
   "metadata": {},
   "outputs": [],
   "source": [
    "df['Balconies'].fillna(0,inplace=True)"
   ]
  },
  {
   "cell_type": "code",
   "execution_count": 15,
   "id": "5ce6bf34",
   "metadata": {},
   "outputs": [],
   "source": [
    "df['Parking'] = df['Parking'].str.replace(\"'\", \"\", regex=False).str.strip()\n",
    "keep_categories = ['1 Covered Parking', '2 Covered Parking']\n",
    "df['Parking'] = df['Parking'].apply(lambda x: x if x in keep_categories else 'Other')"
   ]
  },
  {
   "cell_type": "code",
   "execution_count": 16,
   "id": "3eaade66",
   "metadata": {},
   "outputs": [],
   "source": [
    "df['Floors'].replace('unknown', np.nan, inplace=True)\n",
    "df['Floors'] = df['Floors'].apply(lambda x: '10+' if x >= 10 else x)"
   ]
  },
  {
   "cell_type": "code",
   "execution_count": 17,
   "id": "7822badb",
   "metadata": {},
   "outputs": [],
   "source": [
    "keep_categories = ['Ready to Move']\n",
    "df['Status'] = df['Status'].apply(lambda x: x if x in keep_categories else 'Not Ready to Move')"
   ]
  },
  {
   "cell_type": "code",
   "execution_count": 18,
   "id": "321c98bd",
   "metadata": {},
   "outputs": [],
   "source": [
    "def convert_to_float(value):\n",
    "    try:\n",
    "        return float(value)\n",
    "    except ValueError:\n",
    "        return np.nan\n",
    "df['buy total price'] = df['buy total price'].apply(convert_to_float)"
   ]
  },
  {
   "cell_type": "code",
   "execution_count": 19,
   "id": "fbef9399",
   "metadata": {},
   "outputs": [
    {
     "data": {
      "text/plain": [
       "<AxesSubplot:xlabel='Type of Ownership', ylabel='Count'>"
      ]
     },
     "execution_count": 19,
     "metadata": {},
     "output_type": "execute_result"
    },
    {
     "data": {
      "image/png": "[encoded data removed]",
      "text/plain": [
       "<Figure size 640x480 with 1 Axes>"
      ]
     },
     "metadata": {},
     "output_type": "display_data"
    }
   ],
   "source": [
    "sns.histplot(x=df['Type of Ownership'])"
   ]
  },
  {
   "cell_type": "code",
   "execution_count": 20,
   "id": "e0609ddf",
   "metadata": {},
   "outputs": [
    {
     "data": {
      "text/plain": [
       "<AxesSubplot:xlabel='Furnishing', ylabel='Count'>"
      ]
     },
     "execution_count": 20,
     "metadata": {},
     "output_type": "execute_result"
    },
    {
     "data": {
      "image/png": "[encoded data removed]",
      "text/plain": [
       "<Figure size 640x480 with 1 Axes>"
      ]
     },
     "metadata": {},
     "output_type": "display_data"
    }
   ],
   "source": [
    "sns.histplot(x=df['Furnishing'])"
   ]
  },
  {
   "cell_type": "code",
   "execution_count": 21,
   "id": "5760391d",
   "metadata": {},
   "outputs": [
    {
     "data": {
      "image/png": "[encoded data removed]",
      "text/plain": [
       "<Figure size 640x480 with 1 Axes>"
      ]
     },
     "metadata": {},
     "output_type": "display_data"
    }
   ],
   "source": [
    "df['Transaction_Type'].value_counts().plot(kind='pie', autopct='%1.1f%%', title='Transaction Type Distribution')\n",
    "plt.ylabel('')\n",
    "plt.show()"
   ]
  },
  {
   "cell_type": "code",
   "execution_count": 22,
   "id": "b6b5e921",
   "metadata": {},
   "outputs": [
    {
     "data": {
      "image/png": "[encoded data removed]",
      "text/plain": [
       "<Figure size 640x480 with 1 Axes>"
      ]
     },
     "metadata": {},
     "output_type": "display_data"
    }
   ],
   "source": [
    "df['Property Type'].value_counts().plot(kind='pie', autopct='%1.1f%%', title='Transaction Type Distribution')\n",
    "plt.ylabel('')\n",
    "plt.show()"
   ]
  },
  {
   "cell_type": "code",
   "execution_count": 23,
   "id": "6157a114",
   "metadata": {},
   "outputs": [
    {
     "data": {
      "image/png": "[encoded data removed]",
      "text/plain": [
       "<Figure size 640x480 with 1 Axes>"
      ]
     },
     "metadata": {},
     "output_type": "display_data"
    }
   ],
   "source": [
    "plt.scatter(df['Area'], df['buy total price'])\n",
    "plt.title('Price vs. Area')\n",
    "plt.xlabel('Area')\n",
    "plt.ylabel('Total Price')\n",
    "plt.show()"
   ]
  },
  {
   "cell_type": "code",
   "execution_count": 24,
   "id": "58f471a4",
   "metadata": {},
   "outputs": [
    {
     "data": {
      "image/png": "[encoded data removed]",
      "text/plain": [
       "<Figure size 640x480 with 1 Axes>"
      ]
     },
     "metadata": {},
     "output_type": "display_data"
    }
   ],
   "source": [
    "state_counts = df['state'].value_counts()\n",
    "state_counts.plot(kind='bar', title='Property Count by State')\n",
    "plt.xlabel('State')\n",
    "plt.ylabel('Count')\n",
    "plt.show()"
   ]
  },
  {
   "cell_type": "code",
   "execution_count": 25,
   "id": "f5c3a73e",
   "metadata": {},
   "outputs": [
    {
     "data": {
      "image/png": "[encoded data removed]",
      "text/plain": [
       "<Figure size 1000x600 with 1 Axes>"
      ]
     },
     "metadata": {},
     "output_type": "display_data"
    }
   ],
   "source": [
    "plt.figure(figsize=(10, 6))\n",
    "sns.scatterplot(x='city', y='buy total price', data=df)\n",
    "plt.title('Price vs. City')\n",
    "plt.xlabel('City')\n",
    "plt.ylabel('Total Price')\n",
    "plt.xticks(rotation=45)\n",
    "plt.show()"
   ]
  },
  {
   "cell_type": "code",
   "execution_count": 26,
   "id": "34233874",
   "metadata": {},
   "outputs": [
    {
     "data": {
      "image/png": "[encoded data removed]",
      "text/plain": [
       "<Figure size 640x480 with 1 Axes>"
      ]
     },
     "metadata": {},
     "output_type": "display_data"
    }
   ],
   "source": [
    "sns.scatterplot(x='city', y='booking amount', data=df)\n",
    "plt.title('Booking Amount vs. City')\n",
    "plt.xlabel('City')\n",
    "plt.ylabel('Booking Amount')\n",
    "plt.xticks(rotation=45)\n",
    "\n",
    "plt.tight_layout()\n",
    "plt.show()"
   ]
  },
  {
   "cell_type": "code",
   "execution_count": 27,
   "id": "e123a432",
   "metadata": {},
   "outputs": [
    {
     "data": {
      "text/plain": [
       "BHK                      60\n",
       "Property Type            60\n",
       "Address                  38\n",
       "Furnishing                0\n",
       "Type of Ownership      1745\n",
       "Age of Construction    1957\n",
       "Landmark               1815\n",
       "Beds                     19\n",
       "Baths                   672\n",
       "Balconies                 0\n",
       "Parking                   0\n",
       "Floors                 1527\n",
       "Transaction_Type         30\n",
       "House_Facing           1380\n",
       "Status                    0\n",
       "Price/Carpet Area         0\n",
       "Area                     56\n",
       "state                     0\n",
       "city                      0\n",
       "country                   0\n",
       "state_code                0\n",
       "booking amount         1912\n",
       "buy total price         227\n",
       "dtype: int64"
      ]
     },
     "execution_count": 27,
     "metadata": {},
     "output_type": "execute_result"
    }
   ],
   "source": [
    "df.isna().sum()"
   ]
  },
  {
   "cell_type": "code",
   "execution_count": 29,
   "id": "41fb2088",
   "metadata": {},
   "outputs": [],
   "source": [
    "from sklearn.impute import KNNImputer\n",
    "booking_amount_reshaped = df['booking amount'].values.reshape(-1, 1)\n",
    "\n",
    "imputer = KNNImputer(n_neighbors=3)\n",
    "df['booking amount'] = imputer.fit_transform(booking_amount_reshaped)"
   ]
  },
  {
   "cell_type": "code",
   "execution_count": 30,
   "id": "48dc0f62",
   "metadata": {},
   "outputs": [],
   "source": [
    "imputer = KNNImputer(n_neighbors=3)\n",
    "\n",
    "df[['buy total price']] = imputer.fit_transform(df[['buy total price']])"
   ]
  },
  {
   "cell_type": "code",
   "execution_count": 31,
   "id": "5a9839a0",
   "metadata": {},
   "outputs": [],
   "source": [
    "imputer = KNNImputer(n_neighbors=3)\n",
    "\n",
    "df[['Area']] = imputer.fit_transform(df[['Area']])"
   ]
  },
  {
   "cell_type": "code",
   "execution_count": 32,
   "id": "b82e6a70",
   "metadata": {},
   "outputs": [],
   "source": [
    "mode_facing = df['House_Facing'].mode()[0]\n",
    "df['House_Facing'].fillna(mode_facing, inplace=True)"
   ]
  },
  {
   "cell_type": "code",
   "execution_count": 33,
   "id": "12a6aa8e",
   "metadata": {},
   "outputs": [],
   "source": [
    "df['Property Type'].replace('Others', np.nan, inplace=True)\n"
   ]
  },
  {
   "cell_type": "code",
   "execution_count": 34,
   "id": "63df5a9d",
   "metadata": {},
   "outputs": [],
   "source": [
    "distribution = df['Age of Construction'].value_counts(normalize=True)\n",
    "\n",
    "non_nan_values = distribution.index.tolist()\n",
    "non_nan_probs = distribution.values.tolist()\n",
    "\n",
    "def impute_nan_with_distribution(series, values, probabilities):\n",
    "    nan_indices = series[series.isna()].index\n",
    "    imputed_values = np.random.choice(values, size=len(nan_indices), p=probabilities)\n",
    "    series.loc[nan_indices] = imputed_values\n",
    "    return series\n",
    "\n",
    "df['Age of Construction'] = impute_nan_with_distribution(df['Age of Construction'], non_nan_values, non_nan_probs)"
   ]
  },
  {
   "cell_type": "code",
   "execution_count": 35,
   "id": "039b0c6d",
   "metadata": {},
   "outputs": [],
   "source": [
    "distribution = df['Property Type'].value_counts(normalize=True)\n",
    "\n",
    "non_nan_values = distribution.index.tolist()\n",
    "non_nan_probs = distribution.values.tolist()\n",
    "\n",
    "def impute_nan_with_distribution(series, values, probabilities):\n",
    "    nan_indices = series[series.isna()].index\n",
    "    imputed_values = np.random.choice(values, size=len(nan_indices), p=probabilities)\n",
    "    series.loc[nan_indices] = imputed_values\n",
    "    return series\n",
    "\n",
    "df['Property Type'] = impute_nan_with_distribution(df['Property Type'], non_nan_values, non_nan_probs)"
   ]
  },
  {
   "cell_type": "code",
   "execution_count": 36,
   "id": "f61ac062",
   "metadata": {},
   "outputs": [],
   "source": [
    "df['Floors'].replace('10+', np.nan, inplace=True)\n",
    "flor = df[df['Floors'] != '10+']['Floors'].mode()[0]\n",
    "df['Floors'].fillna(flor, inplace=True)"
   ]
  },
  {
   "cell_type": "code",
   "execution_count": 37,
   "id": "de90dccf",
   "metadata": {},
   "outputs": [],
   "source": [
    "df['Transaction_Type'].fillna('Unknown', inplace=True)\n"
   ]
  },
  {
   "cell_type": "code",
   "execution_count": 38,
   "id": "7c65e923",
   "metadata": {},
   "outputs": [],
   "source": [
    "df['Floors'].replace('10+', np.nan, inplace=True)\n",
    "flor = df[df['Floors'] != '10+']['Floors'].mode()[0]\n",
    "df['Floors'].fillna(flor, inplace=True)"
   ]
  },
  {
   "cell_type": "code",
   "execution_count": 39,
   "id": "2dbcdc16",
   "metadata": {},
   "outputs": [],
   "source": [
    "mode_baths = df['Baths'].mode()[0]\n",
    "df['Baths'].fillna(mode_baths, inplace=True)\n"
   ]
  },
  {
   "cell_type": "code",
   "execution_count": 40,
   "id": "dbf56dc6",
   "metadata": {},
   "outputs": [],
   "source": [
    "mode_bed = df['Beds'].mode()[0]\n",
    "df['Beds'].fillna(mode_bed, inplace=True)"
   ]
  },
  {
   "cell_type": "code",
   "execution_count": 41,
   "id": "d146e1ad",
   "metadata": {},
   "outputs": [],
   "source": [
    "df['BHK'].fillna(df['Beds'], inplace=True)"
   ]
  },
  {
   "cell_type": "code",
   "execution_count": 42,
   "id": "135bb7cc",
   "metadata": {},
   "outputs": [],
   "source": [
    "df['Type of Ownership'].fillna('Others', inplace=True)"
   ]
  },
  {
   "cell_type": "code",
   "execution_count": 43,
   "id": "59bd7e39",
   "metadata": {},
   "outputs": [],
   "source": [
    "df.drop(['Landmark','Address','country','Landmark'],axis=1,inplace=True)"
   ]
  },
  {
   "cell_type": "code",
   "execution_count": 44,
   "id": "69a42f86",
   "metadata": {},
   "outputs": [],
   "source": [
    "from sklearn.preprocessing import LabelEncoder\n",
    "label_encoder = LabelEncoder()\n"
   ]
  },
  {
   "cell_type": "code",
   "execution_count": 45,
   "id": "6656b56d",
   "metadata": {},
   "outputs": [],
   "source": [
    "def label_encode_columns(df, columns):\n",
    "    label_encoder = LabelEncoder()\n",
    "    for col in columns:\n",
    "        if col in df.columns:\n",
    "            df[col] = label_encoder.fit_transform(df[col])\n",
    "    return df\n",
    "\n",
    "columns_to_encode = ['Age of Construction', 'Property Type','House_Facing' ,'Type of Ownership','city','state_code','Furnishing','Parking']\n",
    "\n",
    "df = label_encode_columns(df, columns_to_encode)"
   ]
  },
  {
   "cell_type": "code",
   "execution_count": 46,
   "id": "d43c3af3",
   "metadata": {},
   "outputs": [],
   "source": [
    "def label_encode_columns(df, columns):\n",
    "    label_encoder = LabelEncoder()\n",
    "    for col in columns:\n",
    "        if col in df.columns:\n",
    "            df[col] = label_encoder.fit_transform(df[col])\n",
    "    return df\n",
    "\n",
    "columns_to_encode = ['Transaction_Type','Status']\n",
    "\n",
    "df = label_encode_columns(df, columns_to_encode)"
   ]
  },
  {
   "cell_type": "code",
   "execution_count": 47,
   "id": "eb18350e",
   "metadata": {},
   "outputs": [],
   "source": [
    "df['Price Per Carpet Area'] = df['buy total price'] / df['Area']"
   ]
  },
  {
   "cell_type": "code",
   "execution_count": 48,
   "id": "251b7368",
   "metadata": {},
   "outputs": [],
   "source": [
    "df['Price Per Carpet Area'].replace([np.inf, -np.inf], 0, inplace=True)"
   ]
  },
  {
   "cell_type": "code",
   "execution_count": 49,
   "id": "ccc14c04",
   "metadata": {},
   "outputs": [],
   "source": [
    "df.drop(['BHK','Price/Carpet Area','state'],axis=1,inplace=True)"
   ]
  },
  {
   "cell_type": "code",
   "execution_count": 50,
   "id": "e90ca9c4",
   "metadata": {},
   "outputs": [],
   "source": [
    "df['Beds'].replace('7+', 0, inplace=True)\n",
    "df['Baths'].replace('6+', 0, inplace=True)"
   ]
  },
  {
   "cell_type": "code",
   "execution_count": 51,
   "id": "3e823b29",
   "metadata": {},
   "outputs": [],
   "source": [
    "x = df.drop(['buy total price'],axis=1)\n",
    "y = df['buy total price']"
   ]
  },
  {
   "cell_type": "code",
   "execution_count": 52,
   "id": "1f4c72c3",
   "metadata": {},
   "outputs": [],
   "source": [
    "from sklearn.preprocessing import StandardScaler, PolynomialFeatures\n",
    "scaler = StandardScaler()\n",
    "x_scaled = scaler.fit_transform(x)"
   ]
  },
  {
   "cell_type": "code",
   "execution_count": 53,
   "id": "92fc6e75",
   "metadata": {},
   "outputs": [],
   "source": [
    "from statsmodels.stats.outliers_influence import variance_inflation_factor"
   ]
  },
  {
   "cell_type": "code",
   "execution_count": 54,
   "id": "965cd81b",
   "metadata": {},
   "outputs": [
    {
     "data": {
      "text/html": [
       "<div>\n",
       "<style scoped>\n",
       "    .dataframe tbody tr th:only-of-type {\n",
       "        vertical-align: middle;\n",
       "    }\n",
       "\n",
       "    .dataframe tbody tr th {\n",
       "        vertical-align: top;\n",
       "    }\n",
       "\n",
       "    .dataframe thead th {\n",
       "        text-align: right;\n",
       "    }\n",
       "</style>\n",
       "<table border=\"1\" class=\"dataframe\">\n",
       "  <thead>\n",
       "    <tr style=\"text-align: right;\">\n",
       "      <th></th>\n",
       "      <th>vif</th>\n",
       "      <th>fea</th>\n",
       "    </tr>\n",
       "  </thead>\n",
       "  <tbody>\n",
       "    <tr>\n",
       "      <th>0</th>\n",
       "      <td>1.061105</td>\n",
       "      <td>Property Type</td>\n",
       "    </tr>\n",
       "    <tr>\n",
       "      <th>1</th>\n",
       "      <td>1.045871</td>\n",
       "      <td>Furnishing</td>\n",
       "    </tr>\n",
       "    <tr>\n",
       "      <th>2</th>\n",
       "      <td>1.170408</td>\n",
       "      <td>Type of Ownership</td>\n",
       "    </tr>\n",
       "    <tr>\n",
       "      <th>3</th>\n",
       "      <td>1.012467</td>\n",
       "      <td>Age of Construction</td>\n",
       "    </tr>\n",
       "    <tr>\n",
       "      <th>4</th>\n",
       "      <td>1.184173</td>\n",
       "      <td>Beds</td>\n",
       "    </tr>\n",
       "    <tr>\n",
       "      <th>5</th>\n",
       "      <td>1.187526</td>\n",
       "      <td>Baths</td>\n",
       "    </tr>\n",
       "    <tr>\n",
       "      <th>6</th>\n",
       "      <td>1.056978</td>\n",
       "      <td>Balconies</td>\n",
       "    </tr>\n",
       "    <tr>\n",
       "      <th>7</th>\n",
       "      <td>1.190143</td>\n",
       "      <td>Parking</td>\n",
       "    </tr>\n",
       "    <tr>\n",
       "      <th>8</th>\n",
       "      <td>1.037253</td>\n",
       "      <td>Floors</td>\n",
       "    </tr>\n",
       "    <tr>\n",
       "      <th>9</th>\n",
       "      <td>1.267074</td>\n",
       "      <td>Transaction_Type</td>\n",
       "    </tr>\n",
       "    <tr>\n",
       "      <th>10</th>\n",
       "      <td>1.142015</td>\n",
       "      <td>House_Facing</td>\n",
       "    </tr>\n",
       "    <tr>\n",
       "      <th>11</th>\n",
       "      <td>1.046856</td>\n",
       "      <td>Status</td>\n",
       "    </tr>\n",
       "    <tr>\n",
       "      <th>12</th>\n",
       "      <td>1.055517</td>\n",
       "      <td>Area</td>\n",
       "    </tr>\n",
       "    <tr>\n",
       "      <th>13</th>\n",
       "      <td>1.140899</td>\n",
       "      <td>city</td>\n",
       "    </tr>\n",
       "    <tr>\n",
       "      <th>14</th>\n",
       "      <td>1.087720</td>\n",
       "      <td>state_code</td>\n",
       "    </tr>\n",
       "    <tr>\n",
       "      <th>15</th>\n",
       "      <td>1.020370</td>\n",
       "      <td>booking amount</td>\n",
       "    </tr>\n",
       "    <tr>\n",
       "      <th>16</th>\n",
       "      <td>1.003131</td>\n",
       "      <td>Price Per Carpet Area</td>\n",
       "    </tr>\n",
       "  </tbody>\n",
       "</table>\n",
       "</div>"
      ],
      "text/plain": [
       "         vif                    fea\n",
       "0   1.061105          Property Type\n",
       "1   1.045871             Furnishing\n",
       "2   1.170408      Type of Ownership\n",
       "3   1.012467    Age of Construction\n",
       "4   1.184173                   Beds\n",
       "5   1.187526                  Baths\n",
       "6   1.056978              Balconies\n",
       "7   1.190143                Parking\n",
       "8   1.037253                 Floors\n",
       "9   1.267074       Transaction_Type\n",
       "10  1.142015           House_Facing\n",
       "11  1.046856                 Status\n",
       "12  1.055517                   Area\n",
       "13  1.140899                   city\n",
       "14  1.087720             state_code\n",
       "15  1.020370         booking amount\n",
       "16  1.003131  Price Per Carpet Area"
      ]
     },
     "execution_count": 54,
     "metadata": {},
     "output_type": "execute_result"
    }
   ],
   "source": [
    "vif = pd.DataFrame()\n",
    "vif['vif'] = [variance_inflation_factor(x_scaled,i) for i in range(x_scaled.shape[1])]\n",
    "vif['fea'] = x.columns\n",
    "\n",
    "vif"
   ]
  },
  {
   "cell_type": "code",
   "execution_count": 55,
   "id": "742da06d",
   "metadata": {},
   "outputs": [],
   "source": [
    "Q1 = df.quantile(0.25)\n",
    "Q3 = df.quantile(0.75)\n",
    "IQR = Q3 - Q1\n",
    "outliers = (df < (Q1 - 1.5 * IQR)) | (df > (Q3 + 1.5 * IQR))\n",
    "data_no_outliers = df[~outliers.any(axis=1)]"
   ]
  },
  {
   "cell_type": "code",
   "execution_count": 56,
   "id": "0aad35d3",
   "metadata": {},
   "outputs": [],
   "source": [
    "poly = PolynomialFeatures(degree=2, include_bias=False)\n",
    "x_poly = poly.fit_transform(x_scaled)"
   ]
  },
  {
   "cell_type": "code",
   "execution_count": 57,
   "id": "84f4685a",
   "metadata": {},
   "outputs": [],
   "source": [
    "from sklearn.model_selection import train_test_split\n",
    "from sklearn.linear_model import Lasso, LassoCV"
   ]
  },
  {
   "cell_type": "code",
   "execution_count": 59,
   "id": "6b071cc7",
   "metadata": {},
   "outputs": [],
   "source": [
    "x = data_no_outliers.drop('buy total price', axis=1)\n",
    "y = data_no_outliers['buy total price']\n",
    "\n",
    "x_train, x_test, y_train, y_test = train_test_split(x_poly, y, test_size=0.2, random_state=42)"
   ]
  },
  {
   "cell_type": "code",
   "execution_count": 66,
   "id": "32266624",
   "metadata": {},
   "outputs": [],
   "source": [
    "from sklearn.linear_model import LinearRegression\n",
    "from sklearn.tree import DecisionTreeRegressor\n",
    "from sklearn.metrics import accuracy_score\n",
    "from sklearn.ensemble import RandomForestRegressor\n",
    "from sklearn.neighbors import KNeighborsRegressor as KNN\n",
    "from sklearn.ensemble import GradientBoostingRegressor\n",
    "from sklearn.metrics import mean_absolute_error,mean_squared_error,r2_score"
   ]
  },
  {
   "cell_type": "code",
   "execution_count": 110,
   "id": "43ea9d5c",
   "metadata": {},
   "outputs": [
    {
     "name": "stdout",
     "output_type": "stream",
     "text": [
      "R_test: 0.6288502656091683\n",
      "R_train: 0.6982024283017196\n",
      "MAE: 3503707.1655504256\n",
      "MSE: 25291304556388.156\n",
      "RMSE: 5029046.088115335\n"
     ]
    }
   ],
   "source": [
    "lr = LinearRegression()\n",
    "lr.fit(x_train,y_train)\n",
    "y_pred = lr.predict(x_test)\n",
    "y_pred_train = lr.predict(x_train)\n",
    "\n",
    "print('R_test:',r2_score(y_test, y_pred))\n",
    "print('R_train:',r2_score(y_train, y_pred_train))\n",
    "print('MAE:',mean_absolute_error(y_test, y_pred))\n",
    "print('MSE:', mean_squared_error(y_test, y_pred))\n",
    "print('RMSE:',np.sqrt(mean_squared_error(y_test, y_pred)))"
   ]
  },
  {
   "cell_type": "code",
   "execution_count": 111,
   "id": "43772cce",
   "metadata": {},
   "outputs": [
    {
     "name": "stdout",
     "output_type": "stream",
     "text": [
      "R_test: 0.4168011793136076\n",
      "R_train: 1.0\n",
      "MAE: 3092484.216349256\n",
      "MSE: 39740992985256.77\n",
      "RMSE: 6304045.763258447\n"
     ]
    }
   ],
   "source": [
    "dt = DecisionTreeRegressor()\n",
    "dt.fit(x_train,y_train)\n",
    "y_pred = dt.predict(x_test)\n",
    "y_pred_train = dt.predict(x_train)\n",
    "\n",
    "print('R_test:',r2_score(y_test, y_pred))\n",
    "print('R_train:',r2_score(y_train, y_pred_train))\n",
    "print('MAE:',mean_absolute_error(y_test, y_pred))\n",
    "print('MSE:', mean_squared_error(y_test, y_pred))\n",
    "print('RMSE:',np.sqrt(mean_squared_error(y_test, y_pred)))"
   ]
  },
  {
   "cell_type": "code",
   "execution_count": 112,
   "id": "cae73fa8",
   "metadata": {},
   "outputs": [
    {
     "name": "stdout",
     "output_type": "stream",
     "text": [
      "R_test: 0.7708577073748346\n",
      "R_train: 0.956682961686745\n",
      "MAE: 2145534.0065018623\n",
      "MSE: 15614473007892.402\n",
      "RMSE: 3951515.279977088\n"
     ]
    }
   ],
   "source": [
    "rf = RandomForestRegressor()\n",
    "rf.fit(x_train,y_train)\n",
    "y_pred = rf.predict(x_test)\n",
    "y_pred_train = rf.predict(x_train)\n",
    "\n",
    "print('R_test:',r2_score(y_test, y_pred))\n",
    "print('R_train:',r2_score(y_train, y_pred_train))\n",
    "print('MAE:',mean_absolute_error(y_test, y_pred))\n",
    "print('MSE:', mean_squared_error(y_test, y_pred))\n",
    "print('RMSE:',np.sqrt(mean_squared_error(y_test, y_pred)))"
   ]
  },
  {
   "cell_type": "code",
   "execution_count": 113,
   "id": "60b9a24c",
   "metadata": {},
   "outputs": [
    {
     "name": "stdout",
     "output_type": "stream",
     "text": [
      "R_test: 0.5046624260007997\n",
      "R_train: 0.6083151256310131\n",
      "MAE: 3946660.628459877\n",
      "MSE: 33753852640627.676\n",
      "RMSE: 5809806.592359824\n"
     ]
    }
   ],
   "source": [
    "knn = KNN()\n",
    "knn.fit(x_train,y_train)\n",
    "y_pred = knn.predict(x_test)\n",
    "y_pred_train = knn.predict(x_train)\n",
    "\n",
    "print('R_test:',r2_score(y_test, y_pred))\n",
    "print('R_train:',r2_score(y_train, y_pred_train))\n",
    "print('MAE:',mean_absolute_error(y_test, y_pred))\n",
    "print('MSE:', mean_squared_error(y_test, y_pred))\n",
    "print('RMSE:',np.sqrt(mean_squared_error(y_test, y_pred)))"
   ]
  },
  {
   "cell_type": "code",
   "execution_count": 114,
   "id": "7d15c963",
   "metadata": {},
   "outputs": [
    {
     "name": "stdout",
     "output_type": "stream",
     "text": [
      "R_test: 0.7470624635289703\n",
      "R_train: 0.9035514608283081\n",
      "MAE: 2493198.097782393\n",
      "MSE: 17235955399862.936\n",
      "RMSE: 4151620.8160022194\n"
     ]
    }
   ],
   "source": [
    "gb = GradientBoostingRegressor()\n",
    "gb.fit(x_train,y_train)\n",
    "y_pred = gb.predict(x_test)\n",
    "y_pred_train = gb.predict(x_train)\n",
    "\n",
    "print('R_test:',r2_score(y_test, y_pred))\n",
    "print('R_train:',r2_score(y_train, y_pred_train))\n",
    "print('MAE:',mean_absolute_error(y_test, y_pred))\n",
    "print('MSE:', mean_squared_error(y_test, y_pred))\n",
    "print('RMSE:',np.sqrt(mean_squared_error(y_test, y_pred)))"
   ]
  },
  {
   "cell_type": "code",
   "execution_count": 115,
   "id": "a2114edf",
   "metadata": {},
   "outputs": [],
   "source": [
    "from sklearn.model_selection import cross_val_score"
   ]
  },
  {
   "cell_type": "code",
   "execution_count": 116,
   "id": "9310045d",
   "metadata": {},
   "outputs": [
    {
     "name": "stdout",
     "output_type": "stream",
     "text": [
      "[ 0.16668006 -0.05453178 -0.1358093  -0.12165683  0.00227431 -0.12946965\n",
      " -0.0376485  -0.38847658 -0.18048773 -1.14137383]\n",
      "--------------------------------------------------\n",
      "Linear Regression: -0.2020499825741749\n"
     ]
    }
   ],
   "source": [
    "lr_score = cross_val_score(lr,x,y,cv=10)\n",
    "print(lr_score)\n",
    "print('-'*50)\n",
    "print('Linear Regression:',lr_score.mean())"
   ]
  },
  {
   "cell_type": "code",
   "execution_count": 117,
   "id": "0c811db4",
   "metadata": {},
   "outputs": [
    {
     "name": "stdout",
     "output_type": "stream",
     "text": [
      "[-0.21492543 -0.05591519  0.31179729  0.72661238  0.91868355  0.50502489\n",
      "  0.65699997  0.18565695  0.15256803  0.7228158 ]\n",
      "--------------------------------------------------\n",
      "Decision Tree 0.39093182387184866\n"
     ]
    }
   ],
   "source": [
    "score_dt = cross_val_score(dt,x,y,cv=10)\n",
    "print(score_dt)\n",
    "print('-'*50)\n",
    "print('Decision Tree',score_dt.mean())"
   ]
  },
  {
   "cell_type": "code",
   "execution_count": 118,
   "id": "73a5b652",
   "metadata": {},
   "outputs": [
    {
     "name": "stdout",
     "output_type": "stream",
     "text": [
      "[0.06709839 0.35760578 0.69937181 0.74731624 0.88910379 0.67495324\n",
      " 0.78195031 0.50357827 0.79585324 0.7414945 ]\n",
      "--------------------------------------------------\n",
      "Random Forest 0.6258325568565082\n"
     ]
    }
   ],
   "source": [
    "score_rf = cross_val_score(rf,x,y,cv=10)\n",
    "print(score_rf)\n",
    "print('-'*50)\n",
    "print('Random Forest',score_rf.mean())"
   ]
  },
  {
   "cell_type": "code",
   "execution_count": 119,
   "id": "1e7d20df",
   "metadata": {},
   "outputs": [
    {
     "name": "stdout",
     "output_type": "stream",
     "text": [
      "[0.0782403  0.43670307 0.71749424 0.75989681 0.67679135 0.64851113\n",
      " 0.70878508 0.59861386 0.66717394 0.68259326]\n",
      "--------------------------------------------------\n",
      "Grad Boost 0.5974803045212393\n"
     ]
    }
   ],
   "source": [
    "score_gb = cross_val_score(gb,x,y,cv=10)\n",
    "print(score_gb)\n",
    "print('-'*50)\n",
    "print('Grad Boost',score_gb.mean())"
   ]
  },
  {
   "cell_type": "code",
   "execution_count": 120,
   "id": "a701fd37",
   "metadata": {},
   "outputs": [
    {
     "name": "stdout",
     "output_type": "stream",
     "text": [
      "[-0.15265232  0.30931125  0.42227774  0.23271192  0.670008    0.47764721\n",
      "  0.56853697  0.47180674  0.57356285 -0.01065041]\n",
      "--------------------------------------------------\n",
      "KNN: 0.35625599538400554\n"
     ]
    }
   ],
   "source": [
    "score_knn = cross_val_score(knn,x,y,cv=10)\n",
    "print(score_knn)\n",
    "print('-'*50)\n",
    "print('KNN:',score_knn.mean())"
   ]
  },
  {
   "cell_type": "code",
   "execution_count": 121,
   "id": "10028362",
   "metadata": {},
   "outputs": [],
   "source": [
    "from sklearn.model_selection import GridSearchCV\n",
    "\n",
    "params = {\n",
    "    'n_estimators': [13, 15],\n",
    "    'criterion': ['mse', 'mae'],\n",
    "    'max_depth': [10, 15],\n",
    "    'min_samples_split': [10, 11],\n",
    "    'min_samples_leaf': [5, 6]\n",
    "}"
   ]
  },
  {
   "cell_type": "code",
   "execution_count": 122,
   "id": "ab0f50ae",
   "metadata": {},
   "outputs": [],
   "source": [
    "rf = RandomForestRegressor()\n",
    "grid_search = GridSearchCV(estimator=rf, param_grid=params, cv=5)"
   ]
  },
  {
   "cell_type": "code",
   "execution_count": 123,
   "id": "d23b163e",
   "metadata": {},
   "outputs": [
    {
     "data": {
      "text/plain": [
       "GridSearchCV(cv=5, estimator=RandomForestRegressor(),\n",
       "             param_grid={'criterion': ['mse', 'mae'], 'max_depth': [10, 15],\n",
       "                         'min_samples_leaf': [5, 6],\n",
       "                         'min_samples_split': [10, 11],\n",
       "                         'n_estimators': [13, 15]})"
      ]
     },
     "execution_count": 123,
     "metadata": {},
     "output_type": "execute_result"
    }
   ],
   "source": [
    "grid_search.fit(x_train, y_train)"
   ]
  },
  {
   "cell_type": "code",
   "execution_count": 124,
   "id": "a7fb87ba",
   "metadata": {},
   "outputs": [
    {
     "name": "stdout",
     "output_type": "stream",
     "text": [
      "Best parameters found:  {'criterion': 'mse', 'max_depth': 15, 'min_samples_leaf': 5, 'min_samples_split': 11, 'n_estimators': 15}\n"
     ]
    }
   ],
   "source": [
    "best_params = grid_search.best_params_\n",
    "print(\"Best parameters found: \", best_params)"
   ]
  },
  {
   "cell_type": "code",
   "execution_count": 125,
   "id": "5f196af8",
   "metadata": {},
   "outputs": [
    {
     "data": {
      "text/plain": [
       "RandomForestRegressor(criterion='mse', max_depth=15, min_samples_leaf=5,\n",
       "                      min_samples_split=11, n_estimators=15)"
      ]
     },
     "execution_count": 125,
     "metadata": {},
     "output_type": "execute_result"
    }
   ],
   "source": [
    "best_ext = grid_search.best_estimator_\n",
    "best_ext.fit(x_train,y_train)"
   ]
  },
  {
   "cell_type": "code",
   "execution_count": 126,
   "id": "942779ec",
   "metadata": {},
   "outputs": [
    {
     "data": {
      "text/plain": [
       "0.7467204810884498"
      ]
     },
     "execution_count": 126,
     "metadata": {},
     "output_type": "execute_result"
    }
   ],
   "source": [
    "best_ext.score(x_test,y_test)"
   ]
  },
  {
   "cell_type": "code",
   "execution_count": 127,
   "id": "78225e8b",
   "metadata": {},
   "outputs": [],
   "source": [
    "import pickle\n",
    "import joblib\n",
    "\n",
    "model_reg = rf\n",
    "\n",
    "file = 'Property Buy Price.pkl'\n",
    "pickle.dump(model_reg, open(file,'wb'))\n",
    "\n",
    "loaded_model = pickle.load(open('Property Buy Price.pkl','rb'))"
   ]
  },
  {
   "cell_type": "code",
   "execution_count": 155,
   "id": "f4d76db1",
   "metadata": {},
   "outputs": [],
   "source": [
    "x = df.drop(['Area'],axis=1)\n",
    "y = df['Area']"
   ]
  },
  {
   "cell_type": "code",
   "execution_count": 156,
   "id": "50db6a79",
   "metadata": {},
   "outputs": [],
   "source": [
    "scaler = StandardScaler()\n",
    "x_scaled = scaler.fit_transform(x)"
   ]
  },
  {
   "cell_type": "code",
   "execution_count": 157,
   "id": "f420e4d4",
   "metadata": {},
   "outputs": [],
   "source": [
    "x_train, x_test, y_train, y_test = train_test_split(x_scaled, y, test_size=0.2, random_state=42)"
   ]
  },
  {
   "cell_type": "code",
   "execution_count": 158,
   "id": "2edcd298",
   "metadata": {},
   "outputs": [
    {
     "name": "stdout",
     "output_type": "stream",
     "text": [
      "R_test: -0.051883446201428596\n",
      "R_train: 0.10411989633758767\n",
      "MAE: 750.531329038161\n",
      "MSE: 1641078.3663250105\n",
      "RMSE: 1281.0458096122131\n"
     ]
    }
   ],
   "source": [
    "lr = LinearRegression()\n",
    "lr.fit(x_train,y_train)\n",
    "y_pred = lr.predict(x_test)\n",
    "y_pred_train = lr.predict(x_train)\n",
    "\n",
    "print('R_test:',r2_score(y_test, y_pred))\n",
    "print('R_train:',r2_score(y_train, y_pred_train))\n",
    "print('MAE:',mean_absolute_error(y_test, y_pred))\n",
    "print('MSE:', mean_squared_error(y_test, y_pred))\n",
    "print('RMSE:',np.sqrt(mean_squared_error(y_test, y_pred)))"
   ]
  },
  {
   "cell_type": "code",
   "execution_count": 159,
   "id": "2ca16aea",
   "metadata": {},
   "outputs": [
    {
     "name": "stdout",
     "output_type": "stream",
     "text": [
      "R_test: 0.9325917371584477\n",
      "R_train: 1.0\n",
      "MAE: 87.83418674263862\n",
      "MSE: 105165.87390009956\n",
      "RMSE: 324.29288290078085\n"
     ]
    }
   ],
   "source": [
    "dt = DecisionTreeRegressor()\n",
    "dt.fit(x_train,y_train)\n",
    "y_pred = dt.predict(x_test)\n",
    "y_pred_train = dt.predict(x_train)\n",
    "\n",
    "print('R_test:',r2_score(y_test, y_pred))\n",
    "print('R_train:',r2_score(y_train, y_pred_train))\n",
    "print('MAE:',mean_absolute_error(y_test, y_pred))\n",
    "print('MSE:', mean_squared_error(y_test, y_pred))\n",
    "print('RMSE:',np.sqrt(mean_squared_error(y_test, y_pred)))"
   ]
  },
  {
   "cell_type": "code",
   "execution_count": 160,
   "id": "a0c1f29f",
   "metadata": {},
   "outputs": [
    {
     "name": "stdout",
     "output_type": "stream",
     "text": [
      "R_test: 0.9118059051608736\n",
      "R_train: 0.961898029367166\n",
      "MAE: 64.690503438146\n",
      "MSE: 137594.54205764853\n",
      "RMSE: 370.9373829336274\n"
     ]
    }
   ],
   "source": [
    "rf = RandomForestRegressor()\n",
    "rf.fit(x_train,y_train)\n",
    "y_pred = rf.predict(x_test)\n",
    "y_pred_train = rf.predict(x_train)\n",
    "\n",
    "print('R_test:',r2_score(y_test, y_pred))\n",
    "print('R_train:',r2_score(y_train, y_pred_train))\n",
    "print('MAE:',mean_absolute_error(y_test, y_pred))\n",
    "print('MSE:', mean_squared_error(y_test, y_pred))\n",
    "print('RMSE:',np.sqrt(mean_squared_error(y_test, y_pred)))"
   ]
  },
  {
   "cell_type": "code",
   "execution_count": 161,
   "id": "b0aa5ddc",
   "metadata": {},
   "outputs": [
    {
     "name": "stdout",
     "output_type": "stream",
     "text": [
      "R_test: -0.06686593210928637\n",
      "R_train: 0.40766011366284016\n",
      "MAE: 759.2521922442244\n",
      "MSE: 1664453.041138979\n",
      "RMSE: 1290.136830393962\n"
     ]
    }
   ],
   "source": [
    "knn = KNN()\n",
    "knn.fit(x_train,y_train)\n",
    "y_pred = knn.predict(x_test)\n",
    "y_pred_train = knn.predict(x_train)\n",
    "\n",
    "print('R_test:',r2_score(y_test, y_pred))\n",
    "print('R_train:',r2_score(y_train, y_pred_train))\n",
    "print('MAE:',mean_absolute_error(y_test, y_pred))\n",
    "print('MSE:', mean_squared_error(y_test, y_pred))\n",
    "print('RMSE:',np.sqrt(mean_squared_error(y_test, y_pred)))"
   ]
  },
  {
   "cell_type": "code",
   "execution_count": 162,
   "id": "165782ed",
   "metadata": {},
   "outputs": [
    {
     "name": "stdout",
     "output_type": "stream",
     "text": [
      "R_test: 0.8578818626398698\n",
      "R_train: 0.9738883133246754\n",
      "MAE: 127.14377499967065\n",
      "MSE: 221723.23514201833\n",
      "RMSE: 470.87496763155536\n"
     ]
    }
   ],
   "source": [
    "gb = GradientBoostingRegressor()\n",
    "gb.fit(x_train,y_train)\n",
    "y_pred = gb.predict(x_test)\n",
    "y_pred_train = gb.predict(x_train)\n",
    "\n",
    "print('R_test:',r2_score(y_test, y_pred))\n",
    "print('R_train:',r2_score(y_train, y_pred_train))\n",
    "print('MAE:',mean_absolute_error(y_test, y_pred))\n",
    "print('MSE:', mean_squared_error(y_test, y_pred))\n",
    "print('RMSE:',np.sqrt(mean_squared_error(y_test, y_pred)))"
   ]
  },
  {
   "cell_type": "code",
   "execution_count": 163,
   "id": "ba7753c6",
   "metadata": {},
   "outputs": [
    {
     "name": "stdout",
     "output_type": "stream",
     "text": [
      "[-1.31425511e+01 -5.37591999e-03 -1.85034933e-01 -1.58811143e-01\n",
      "  1.09178665e-02  2.53779450e-02 -6.15964072e-02  1.28333299e-01\n",
      " -3.88369283e-02 -1.64080628e-01]\n",
      "--------------------------------------------------\n",
      "Linear Regression: -1.3591657928053764\n"
     ]
    }
   ],
   "source": [
    "lr_score = cross_val_score(lr,x,y,cv=10)\n",
    "print(lr_score)\n",
    "print('-'*50)\n",
    "print('Linear Regression:',lr_score.mean())"
   ]
  },
  {
   "cell_type": "code",
   "execution_count": 164,
   "id": "4a9c70fc",
   "metadata": {},
   "outputs": [
    {
     "name": "stdout",
     "output_type": "stream",
     "text": [
      "[0.98517957 0.82487553 0.86560497 0.94156319 0.90904447 0.88145164\n",
      " 0.88803561 0.86639531 0.90552594 0.17814643]\n",
      "--------------------------------------------------\n",
      "Decision Tree 0.8245822663430296\n"
     ]
    }
   ],
   "source": [
    "score_dt = cross_val_score(dt,x,y,cv=10)\n",
    "print(score_dt)\n",
    "print('-'*50)\n",
    "print('Decision Tree',score_dt.mean())"
   ]
  },
  {
   "cell_type": "code",
   "execution_count": 165,
   "id": "753f40da",
   "metadata": {},
   "outputs": [
    {
     "name": "stdout",
     "output_type": "stream",
     "text": [
      "[-0.7276801   0.88491726  0.92318148  0.91387839  0.98692951  0.92452034\n",
      "  0.96951607  0.97142288  0.98363682  0.45500637]\n",
      "--------------------------------------------------\n",
      "Random Forest 0.7285329020016362\n"
     ]
    }
   ],
   "source": [
    "score_rf = cross_val_score(rf,x,y,cv=10)\n",
    "print(score_rf)\n",
    "print('-'*50)\n",
    "print('Random Forest',score_rf.mean())"
   ]
  },
  {
   "cell_type": "code",
   "execution_count": 166,
   "id": "293ba6ff",
   "metadata": {},
   "outputs": [
    {
     "name": "stdout",
     "output_type": "stream",
     "text": [
      "[-1.06584757  0.8786558   0.87815897  0.79169816  0.96479007  0.91345517\n",
      "  0.96230208  0.9236774   0.90323357  0.619566  ]\n",
      "--------------------------------------------------\n",
      "Grad Boost 0.6769689641594671\n"
     ]
    }
   ],
   "source": [
    "score_gb = cross_val_score(gb,x,y,cv=10)\n",
    "print(score_gb)\n",
    "print('-'*50)\n",
    "print('Grad Boost',score_gb.mean())"
   ]
  },
  {
   "cell_type": "code",
   "execution_count": 168,
   "id": "eaf9e395",
   "metadata": {},
   "outputs": [],
   "source": [
    "from sklearn.model_selection import GridSearchCV\n",
    "\n",
    "params = {\n",
    "    'n_estimators': [13, 15],\n",
    "    'criterion': ['mse', 'mae'],\n",
    "    'max_depth': [10, 15],\n",
    "    'min_samples_split': [10, 11],\n",
    "    'min_samples_leaf': [5, 6]\n",
    "}"
   ]
  },
  {
   "cell_type": "code",
   "execution_count": 169,
   "id": "70648a3a",
   "metadata": {},
   "outputs": [],
   "source": [
    "rf = RandomForestRegressor()\n",
    "grid_search = GridSearchCV(estimator=rf, param_grid=params, cv=5)"
   ]
  },
  {
   "cell_type": "code",
   "execution_count": 170,
   "id": "f6cf04a6",
   "metadata": {},
   "outputs": [
    {
     "data": {
      "text/plain": [
       "GridSearchCV(cv=5, estimator=RandomForestRegressor(),\n",
       "             param_grid={'criterion': ['mse', 'mae'], 'max_depth': [10, 15],\n",
       "                         'min_samples_leaf': [5, 6],\n",
       "                         'min_samples_split': [10, 11],\n",
       "                         'n_estimators': [13, 15]})"
      ]
     },
     "execution_count": 170,
     "metadata": {},
     "output_type": "execute_result"
    }
   ],
   "source": [
    "grid_search.fit(x_train, y_train)"
   ]
  },
  {
   "cell_type": "code",
   "execution_count": 171,
   "id": "a3b66705",
   "metadata": {},
   "outputs": [
    {
     "name": "stdout",
     "output_type": "stream",
     "text": [
      "Best parameters found:  {'criterion': 'mae', 'max_depth': 15, 'min_samples_leaf': 5, 'min_samples_split': 10, 'n_estimators': 13}\n"
     ]
    }
   ],
   "source": [
    "best_params = grid_search.best_params_\n",
    "print(\"Best parameters found: \", best_params)"
   ]
  },
  {
   "cell_type": "code",
   "execution_count": 172,
   "id": "ea44487b",
   "metadata": {},
   "outputs": [
    {
     "data": {
      "text/plain": [
       "RandomForestRegressor(criterion='mae', max_depth=15, min_samples_leaf=5,\n",
       "                      min_samples_split=10, n_estimators=13)"
      ]
     },
     "execution_count": 172,
     "metadata": {},
     "output_type": "execute_result"
    }
   ],
   "source": [
    "best_ext = grid_search.best_estimator_\n",
    "best_ext.fit(x_train,y_train)"
   ]
  },
  {
   "cell_type": "code",
   "execution_count": 173,
   "id": "4ae71d65",
   "metadata": {},
   "outputs": [
    {
     "data": {
      "text/plain": [
       "0.8599442195427569"
      ]
     },
     "execution_count": 173,
     "metadata": {},
     "output_type": "execute_result"
    }
   ],
   "source": [
    "best_ext.score(x_test,y_test)"
   ]
  },
  {
   "cell_type": "code",
   "execution_count": 174,
   "id": "aa965c95",
   "metadata": {},
   "outputs": [],
   "source": [
    "import pickle\n",
    "import joblib\n",
    "\n",
    "model_reg = rf\n",
    "\n",
    "file = 'Carpet Area.pkl'\n",
    "pickle.dump(model_reg, open(file,'wb'))\n",
    "\n",
    "loaded_model = pickle.load(open('Carpet Area.pkl','rb'))"
   ]
  },
  {
   "cell_type": "code",
   "execution_count": 60,
   "id": "804903c3",
   "metadata": {},
   "outputs": [],
   "source": [
    "x_ = df.drop(['Property Type'],axis=1)\n",
    "y_ = df['Property Type']"
   ]
  },
  {
   "cell_type": "code",
   "execution_count": 61,
   "id": "b2aa1c8d",
   "metadata": {},
   "outputs": [],
   "source": [
    "from imblearn.over_sampling import SMOTE\n",
    "sm = SMOTE()\n",
    "x,y = sm.fit_resample(x_,y_)"
   ]
  },
  {
   "cell_type": "code",
   "execution_count": 62,
   "id": "ef3697b6",
   "metadata": {},
   "outputs": [],
   "source": [
    "from sklearn.preprocessing import StandardScaler\n",
    "scaler = StandardScaler()\n",
    "scaler = StandardScaler()\n",
    "x_scaled = scaler.fit_transform(x)"
   ]
  },
  {
   "cell_type": "code",
   "execution_count": 63,
   "id": "368bc2bf",
   "metadata": {},
   "outputs": [],
   "source": [
    "x_train, x_test, y_train, y_test = train_test_split(x, y, test_size=0.2, random_state=42)"
   ]
  },
  {
   "cell_type": "code",
   "execution_count": 64,
   "id": "f40ce415",
   "metadata": {},
   "outputs": [],
   "source": [
    "from sklearn.linear_model import LogisticRegression\n",
    "from sklearn.neighbors import KNeighborsClassifier\n",
    "from sklearn.tree import DecisionTreeClassifier\n",
    "from sklearn.ensemble import GradientBoostingClassifier\n",
    "from sklearn.ensemble import RandomForestClassifier\n",
    "from sklearn.svm import SVC"
   ]
  },
  {
   "cell_type": "code",
   "execution_count": 65,
   "id": "217b683f",
   "metadata": {},
   "outputs": [],
   "source": [
    "lr = LogisticRegression() \n",
    "dt = DecisionTreeClassifier()\n",
    "kn = KNeighborsClassifier()\n",
    "rc = RandomForestClassifier()\n",
    "gb = GradientBoostingClassifier()\n",
    "svm = SVC()"
   ]
  },
  {
   "cell_type": "code",
   "execution_count": 66,
   "id": "78a6ed95",
   "metadata": {},
   "outputs": [],
   "source": [
    "from sklearn.metrics import accuracy_score\n",
    "from sklearn.metrics import classification_report\n",
    "from sklearn.metrics import confusion_matrix"
   ]
  },
  {
   "cell_type": "code",
   "execution_count": 67,
   "id": "b1015857",
   "metadata": {},
   "outputs": [
    {
     "name": "stdout",
     "output_type": "stream",
     "text": [
      "Score: 0.34455128205128205\n",
      "--------------------------------------------------\n",
      "[[  0   4 398]\n",
      " [  0   3 416]\n",
      " [  0   0 427]]\n",
      "--------------------------------------------------\n",
      "Report:               precision    recall  f1-score   support\n",
      "\n",
      "           0       0.00      0.00      0.00       402\n",
      "           1       0.43      0.01      0.01       419\n",
      "           2       0.34      1.00      0.51       427\n",
      "\n",
      "    accuracy                           0.34      1248\n",
      "   macro avg       0.26      0.34      0.18      1248\n",
      "weighted avg       0.26      0.34      0.18      1248\n",
      "\n",
      "--------------------------------------------------\n",
      "Score_train: 0.33092948717948717\n"
     ]
    }
   ],
   "source": [
    "lr = LogisticRegression()\n",
    "lr.fit(x_train,y_train)\n",
    "y_pred = lr.predict(x_test)\n",
    "y_pred_train = lr.predict(x_train)\n",
    "\n",
    "print('Score:',accuracy_score(y_test, y_pred))\n",
    "print('-'*50)\n",
    "print(confusion_matrix(y_test, y_pred))\n",
    "print('-'*50)\n",
    "print('Report:',classification_report(y_test, y_pred))\n",
    "print('-'*50)\n",
    "print('Score_train:', accuracy_score(y_train, y_pred_train))\n"
   ]
  },
  {
   "cell_type": "code",
   "execution_count": 68,
   "id": "879b5509",
   "metadata": {},
   "outputs": [
    {
     "name": "stdout",
     "output_type": "stream",
     "text": [
      "Score: 0.7764423076923077\n",
      "--------------------------------------------------\n",
      "[[363  17  22]\n",
      " [ 25 297  97]\n",
      " [ 30  88 309]]\n",
      "--------------------------------------------------\n",
      "Report:               precision    recall  f1-score   support\n",
      "\n",
      "           0       0.87      0.90      0.89       402\n",
      "           1       0.74      0.71      0.72       419\n",
      "           2       0.72      0.72      0.72       427\n",
      "\n",
      "    accuracy                           0.78      1248\n",
      "   macro avg       0.78      0.78      0.78      1248\n",
      "weighted avg       0.77      0.78      0.78      1248\n",
      "\n",
      "--------------------------------------------------\n",
      "Score_train: 0.9975961538461539\n"
     ]
    }
   ],
   "source": [
    "dt.fit(x_train,y_train)\n",
    "y_pred = dt.predict(x_test)\n",
    "y_pred_train = dt.predict(x_train)\n",
    "\n",
    "print('Score:',accuracy_score(y_test, y_pred))\n",
    "print('-'*50)\n",
    "print(confusion_matrix(y_test, y_pred))\n",
    "print('-'*50)\n",
    "print('Report:',classification_report(y_test, y_pred))\n",
    "print('-'*50)\n",
    "print('Score_train:', accuracy_score(y_train, y_pred_train))"
   ]
  },
  {
   "cell_type": "code",
   "execution_count": 69,
   "id": "a84c6629",
   "metadata": {},
   "outputs": [
    {
     "name": "stdout",
     "output_type": "stream",
     "text": [
      "Score: 0.6498397435897436\n",
      "--------------------------------------------------\n",
      "[[315  52  35]\n",
      " [ 62 233 124]\n",
      " [ 65  99 263]]\n",
      "--------------------------------------------------\n",
      "Report:               precision    recall  f1-score   support\n",
      "\n",
      "           0       0.71      0.78      0.75       402\n",
      "           1       0.61      0.56      0.58       419\n",
      "           2       0.62      0.62      0.62       427\n",
      "\n",
      "    accuracy                           0.65      1248\n",
      "   macro avg       0.65      0.65      0.65      1248\n",
      "weighted avg       0.65      0.65      0.65      1248\n",
      "\n",
      "--------------------------------------------------\n",
      "Score_train: 0.7610176282051282\n"
     ]
    }
   ],
   "source": [
    "kn.fit(x_train,y_train)\n",
    "y_pred = kn.predict(x_test)\n",
    "y_pred_train = kn.predict(x_train)\n",
    "\n",
    "print('Score:',accuracy_score(y_test, y_pred))\n",
    "print('-'*50)\n",
    "print(confusion_matrix(y_test, y_pred))\n",
    "print('-'*50)\n",
    "print('Report:',classification_report(y_test, y_pred))\n",
    "print('-'*50)\n",
    "print('Score_train:', accuracy_score(y_train, y_pred_train))"
   ]
  },
  {
   "cell_type": "code",
   "execution_count": 70,
   "id": "e041260d",
   "metadata": {},
   "outputs": [
    {
     "name": "stdout",
     "output_type": "stream",
     "text": [
      "Score: 0.8782051282051282\n",
      "--------------------------------------------------\n",
      "[[392   5   5]\n",
      " [  3 374  42]\n",
      " [ 11  86 330]]\n",
      "--------------------------------------------------\n",
      "Report:               precision    recall  f1-score   support\n",
      "\n",
      "           0       0.97      0.98      0.97       402\n",
      "           1       0.80      0.89      0.85       419\n",
      "           2       0.88      0.77      0.82       427\n",
      "\n",
      "    accuracy                           0.88      1248\n",
      "   macro avg       0.88      0.88      0.88      1248\n",
      "weighted avg       0.88      0.88      0.88      1248\n",
      "\n",
      "--------------------------------------------------\n",
      "Score_train: 0.9975961538461539\n"
     ]
    }
   ],
   "source": [
    "rc.fit(x_train,y_train)\n",
    "y_pred = rc.predict(x_test)\n",
    "y_pred_train = rc.predict(x_train)\n",
    "\n",
    "print('Score:',accuracy_score(y_test, y_pred))\n",
    "print('-'*50)\n",
    "print(confusion_matrix(y_test, y_pred))\n",
    "print('-'*50)\n",
    "print('Report:',classification_report(y_test, y_pred))\n",
    "print('-'*50)\n",
    "print('Score_train:', accuracy_score(y_train, y_pred_train))"
   ]
  },
  {
   "cell_type": "code",
   "execution_count": 71,
   "id": "9b4fbd4d",
   "metadata": {},
   "outputs": [
    {
     "name": "stdout",
     "output_type": "stream",
     "text": [
      "Score: 0.7996794871794872\n",
      "--------------------------------------------------\n",
      "[[348  22  32]\n",
      " [  5 371  43]\n",
      " [ 42 106 279]]\n",
      "--------------------------------------------------\n",
      "Report:               precision    recall  f1-score   support\n",
      "\n",
      "           0       0.88      0.87      0.87       402\n",
      "           1       0.74      0.89      0.81       419\n",
      "           2       0.79      0.65      0.71       427\n",
      "\n",
      "    accuracy                           0.80      1248\n",
      "   macro avg       0.80      0.80      0.80      1248\n",
      "weighted avg       0.80      0.80      0.80      1248\n",
      "\n",
      "--------------------------------------------------\n",
      "Score_train: 0.8419471153846154\n"
     ]
    }
   ],
   "source": [
    "gb.fit(x_train,y_train)\n",
    "y_pred = gb.predict(x_test)\n",
    "y_pred_train = gb.predict(x_train)\n",
    "\n",
    "print('Score:',accuracy_score(y_test, y_pred))\n",
    "print('-'*50)\n",
    "print(confusion_matrix(y_test, y_pred))\n",
    "print('-'*50)\n",
    "print('Report:',classification_report(y_test, y_pred))\n",
    "print('-'*50)\n",
    "print('Score_train:', accuracy_score(y_train, y_pred_train))"
   ]
  },
  {
   "cell_type": "code",
   "execution_count": 72,
   "id": "e2703896",
   "metadata": {},
   "outputs": [
    {
     "name": "stdout",
     "output_type": "stream",
     "text": [
      "Score: 0.3918269230769231\n",
      "--------------------------------------------------\n",
      "[[183 195  24]\n",
      " [144 235  40]\n",
      " [179 177  71]]\n",
      "--------------------------------------------------\n",
      "Report:               precision    recall  f1-score   support\n",
      "\n",
      "           0       0.36      0.46      0.40       402\n",
      "           1       0.39      0.56      0.46       419\n",
      "           2       0.53      0.17      0.25       427\n",
      "\n",
      "    accuracy                           0.39      1248\n",
      "   macro avg       0.42      0.39      0.37      1248\n",
      "weighted avg       0.43      0.39      0.37      1248\n",
      "\n",
      "--------------------------------------------------\n",
      "Score_train: 0.3916266025641026\n"
     ]
    }
   ],
   "source": [
    "svm.fit(x_train,y_train)\n",
    "y_pred = svm.predict(x_test)\n",
    "y_pred_train = svm.predict(x_train)\n",
    "\n",
    "print('Score:',accuracy_score(y_test, y_pred))\n",
    "print('-'*50)\n",
    "print(confusion_matrix(y_test, y_pred))\n",
    "print('-'*50)\n",
    "print('Report:',classification_report(y_test, y_pred))\n",
    "print('-'*50)\n",
    "print('Score_train:', accuracy_score(y_train, y_pred_train))"
   ]
  },
  {
   "cell_type": "code",
   "execution_count": 73,
   "id": "f8dd0b1d",
   "metadata": {},
   "outputs": [],
   "source": [
    "from sklearn.model_selection import cross_val_score"
   ]
  },
  {
   "cell_type": "code",
   "execution_count": 74,
   "id": "093e9f0c",
   "metadata": {},
   "outputs": [
    {
     "name": "stdout",
     "output_type": "stream",
     "text": [
      "[0.33333333 0.33333333 0.33333333 0.34615385 0.3349359  0.3349359\n",
      " 0.33333333 0.33173077 0.33333333 0.33814103]\n",
      "**************************************************\n",
      "Log reg: 0.3352564102564103\n"
     ]
    }
   ],
   "source": [
    "lr_score = cross_val_score(lr,x,y,cv=10)\n",
    "print(lr_score)\n",
    "print('*'*50)\n",
    "print('Log reg:',lr_score.mean())"
   ]
  },
  {
   "cell_type": "code",
   "execution_count": 75,
   "id": "e7665405",
   "metadata": {},
   "outputs": [
    {
     "name": "stdout",
     "output_type": "stream",
     "text": [
      "[0.61378205 0.62820513 0.61698718 0.59935897 0.67307692 0.66666667\n",
      " 0.5625     0.66185897 0.66025641 0.65544872]\n",
      "**************************************************\n",
      "KNN: 0.6338141025641026\n"
     ]
    }
   ],
   "source": [
    "kn_score = cross_val_score(kn,x,y,cv=10)\n",
    "print(kn_score)\n",
    "print('*'*50)\n",
    "print('KNN:',kn_score.mean())"
   ]
  },
  {
   "cell_type": "code",
   "execution_count": 76,
   "id": "2cfeb5a6",
   "metadata": {},
   "outputs": [
    {
     "name": "stdout",
     "output_type": "stream",
     "text": [
      "[0.62179487 0.51923077 0.55128205 0.56089744 0.65224359 0.62019231\n",
      " 0.5849359  0.70192308 0.69070513 0.67467949]\n",
      "**************************************************\n",
      "Grad Boost: 0.6177884615384615\n"
     ]
    }
   ],
   "source": [
    "gb_score = cross_val_score(gb,x,y,cv=10)\n",
    "print(gb_score)\n",
    "print('*'*50)\n",
    "print('Grad Boost:',gb_score.mean())"
   ]
  },
  {
   "cell_type": "code",
   "execution_count": 77,
   "id": "453468e6",
   "metadata": {},
   "outputs": [
    {
     "name": "stdout",
     "output_type": "stream",
     "text": [
      "[0.67788462 0.6650641  0.67628205 0.66185897 0.72435897 0.67307692\n",
      " 0.6650641  0.76121795 0.75801282 0.79967949]\n",
      "**************************************************\n",
      "Random Forest: 0.7062499999999999\n"
     ]
    }
   ],
   "source": [
    "rc_score = cross_val_score(rc,x,y,cv=10)\n",
    "print(rc_score)\n",
    "print('*'*50)\n",
    "print('Random Forest:',rc_score.mean())"
   ]
  },
  {
   "cell_type": "code",
   "execution_count": 80,
   "id": "33b0c5e1",
   "metadata": {},
   "outputs": [
    {
     "data": {
      "text/plain": [
       "GridSearchCV(estimator=RandomForestClassifier(),\n",
       "             param_grid={'criterion': ['gini', 'entropy'],\n",
       "                         'max_depth': [10, 15], 'min_samples_leaf': [5, 6],\n",
       "                         'min_samples_split': [10, 11],\n",
       "                         'n_estimators': [13, 15]})"
      ]
     },
     "execution_count": 80,
     "metadata": {},
     "output_type": "execute_result"
    }
   ],
   "source": [
    "from sklearn.model_selection import GridSearchCV\n",
    "\n",
    "params = {\n",
    "    'n_estimators': [13,15],\n",
    "    'max_depth': [10, 15],\n",
    "    'min_samples_split': [10,11],\n",
    "    'criterion':['gini','entropy'],\n",
    "    'min_samples_leaf': [5,6]\n",
    "}\n",
    "\n",
    "rf = RandomForestClassifier()\n",
    "grd = GridSearchCV(estimator=rf, param_grid=params)\n",
    "grd.fit(x_train, y_train)"
   ]
  },
  {
   "cell_type": "code",
   "execution_count": 81,
   "id": "a698232b",
   "metadata": {},
   "outputs": [
    {
     "data": {
      "text/plain": [
       "RandomForestClassifier(criterion='entropy', max_depth=15, min_samples_leaf=5,\n",
       "                       min_samples_split=10, n_estimators=13)"
      ]
     },
     "execution_count": 81,
     "metadata": {},
     "output_type": "execute_result"
    }
   ],
   "source": [
    "best_ext = grd.best_estimator_\n",
    "best_ext.fit(x_train,y_train)"
   ]
  },
  {
   "cell_type": "code",
   "execution_count": 82,
   "id": "2cad1568",
   "metadata": {},
   "outputs": [
    {
     "data": {
      "text/plain": [
       "0.8301282051282052"
      ]
     },
     "execution_count": 82,
     "metadata": {},
     "output_type": "execute_result"
    }
   ],
   "source": [
    "best_ext.score(x_test,y_test)"
   ]
  },
  {
   "cell_type": "code",
   "execution_count": 83,
   "id": "ff35f143",
   "metadata": {},
   "outputs": [],
   "source": [
    "import pickle\n",
    "import joblib\n",
    "\n",
    "model_class = rc\n",
    "\n",
    "file = 'Property Type.pkl'\n",
    "pickle.dump(model_class, open(file,'wb'))\n",
    "\n",
    "loaded_model = pickle.load(open('Property Type.pkl','rb'))"
   ]
  },
  {
   "cell_type": "markdown",
   "id": "10358c2b",
   "metadata": {},
   "source": [
    "Best Models and their accuracy scores:\n",
    "Property Type: Random Forest Classifier - 0.83\n",
    "Area: Random Forest Regression - 0.86\n",
    "Total Buy Price: Random Forest Regression - 0.74"
   ]
  }
 ],
 "metadata": {
  "kernelspec": {
   "display_name": "Python 3 (ipykernel)",
   "language": "python",
   "name": "python3"
  },
  "language_info": {
   "codemirror_mode": {
    "name": "ipython",
    "version": 3
   },
   "file_extension": ".py",
   "mimetype": "text/x-python",
   "name": "python",
   "nbconvert_exporter": "python",
   "pygments_lexer": "ipython3",
   "version": "3.9.13"
  }
 },
 "nbformat": 4,
 "nbformat_minor": 5
}
